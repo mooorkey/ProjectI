{
 "cells": [
  {
   "cell_type": "code",
<<<<<<< Updated upstream
   "execution_count": 2,
=======
   "execution_count": 3,
>>>>>>> Stashed changes
   "metadata": {},
   "outputs": [],
   "source": [
    "import numpy as np\n",
    "import matplotlib.pyplot as plt\n",
    "import time\n",
    "from random_matrix import generate_matrix, print_matrix"
   ]
  },
  {
   "cell_type": "code",
<<<<<<< Updated upstream
   "execution_count": 3,
=======
   "execution_count": 4,
>>>>>>> Stashed changes
   "metadata": {},
   "outputs": [],
   "source": [
    "# Prototype 1 \n",
    "# Try add all childs instead of the lower cost one\n",
    "# and count the iteration once all workers are assigned \n",
    "# But this took too much time to solve the combination is correct(equals to n!)\n",
    "# this prototype compare all combination of assignmnet result then choose the one with lowest cost\n",
    "def find_least_cost(cost_matrix):\n",
    "    worker_length = len(cost_matrix)\n",
    "    lower_bound = float('inf') # Initialize with positive infinity\n",
    "    assignment_result = []\n",
    "\n",
    "    iteration = 0\n",
    "    combination = 0\n",
    "\n",
    "    # Initialize unpruned_nodes for nodes explore\n",
    "    unpruned_nodes = [(0, [], list(range(worker_length)))] \n",
    "    \n",
    "    while unpruned_nodes:\n",
    "        # cost, list of assigned worker, list of unassigned worker\n",
    "        cost, assignment, unassigned = unpruned_nodes.pop() # pop last node to explore\n",
    "        iteration += 1\n",
    "\n",
    "        if not unassigned: # Check if all worker are assigned\n",
    "            combination += 1 # All workers are assigned means we finished 1 combination\n",
    "            if cost < lower_bound:\n",
    "                lower_bound = cost # set new cost\n",
    "                assignment_result = assignment # set new assignment\n",
    "        else:\n",
    "            # create child node for each unassigned worker\n",
    "            for job in unassigned:\n",
    "                new_assignment = assignment + [job] # add job to assignment\n",
    "                new_unassigned = [j for j in unassigned if j != job] # <- this is constraint (1 worker can assigned to 1 job)\n",
    "                new_cost = calculate_cost(cost_matrix, new_assignment)\n",
    "                unpruned_nodes.append((new_cost, new_assignment, new_unassigned))  \n",
    "\n",
    "    print(f\"{iteration} Iterations and {combination} combinations\")\n",
    "    return lower_bound, assignment_result\n",
    "\n",
    "def calculate_cost(matrix, assignment):\n",
    "    cost = 0\n",
    "    for worker, job in enumerate(assignment):\n",
    "        cost += matrix[worker][job]\n",
    "    return cost"
   ]
  },
  {
   "cell_type": "code",
<<<<<<< Updated upstream
   "execution_count": 1,
   "metadata": {},
   "outputs": [
    {
     "name": "stdout",
     "output_type": "stream",
     "text": [
      "test 0\n"
     ]
    }
   ],
   "source": [
    "test = list(range(4))\n",
    "print(f\"test {test[0]}\")"
   ]
  },
  {
   "cell_type": "code",
   "execution_count": 6,
=======
   "execution_count": 5,
>>>>>>> Stashed changes
   "metadata": {},
   "outputs": [
    {
     "name": "stdout",
     "output_type": "stream",
     "text": [
      "65 Iterations and 24 combinations\n",
      "Optimal Solution: 13\n",
      "Optimal Assignment: [1, 0, 2, 3]\n",
<<<<<<< Updated upstream
      "Time Took : 0.0009965896606445312 s\n"
=======
      "Time Took : 0.0009968280792236328 s\n"
>>>>>>> Stashed changes
     ]
    }
   ],
   "source": [
    "# dummy input\n",
    "# output should be\n",
    "# worker 0 -> job 1\n",
    "# worker 1 -> job 0\n",
    "# worker 2 -> job 2\n",
    "# worker 3 -> job 3\n",
    "# optimal cost = 13\n",
    "input_data = np.array([\n",
    "#job 0, 1, 2, 3 \n",
    "    [9, 2, 7, 8], # Worker 0\n",
    "    [6, 4, 3, 7], # Worker 1\n",
    "    [5, 8, 1, 8], # Worker 2\n",
    "    [7, 6, 9, 4]  # Worker 3\n",
    "])\n",
    "# input_data = np.array([\n",
    "#     [8, 4, 2, 6, 1],\n",
    "#     [0, 9, 5, 5, 4],\n",
    "#     [3, 8, 9, 2, 6],\n",
    "#     [4, 3, 1, 0, 3],\n",
    "#     [9, 5, 8, 9, 5],\n",
    "# ])\n",
    "start = time.time()\n",
    "solution, assignment = find_least_cost(input_data)\n",
    "end = time.time()\n",
    "print(\"Optimal Solution:\", solution)\n",
    "print(\"Optimal Assignment:\", assignment)\n",
    "print(\"Time Took :\", end-start, \"s\")"
   ]
  },
  {
   "cell_type": "code",
   "execution_count": 10,
   "metadata": {},
   "outputs": [],
   "source": [
    "def test_bnb(size_input, dbg):\n",
    "    execution_times = []\n",
    "    for size in size_input:\n",
    "        print(f\"Input size : {size}\")\n",
    "        data = generate_matrix(size)\n",
    "        start = time.time()\n",
    "        solution, assignment = find_least_cost(data)\n",
    "        end = time.time()\n",
    "        execution_time = end - start\n",
    "        \n",
    "        if dbg:\n",
    "            print_matrix(data)\n",
    "            print(\"Optimal Solution:\", solution)\n",
    "            print(\"Optimal Assignment:\", assignment)    \n",
    "        print(\"Time Took :\", f\"{execution_time:.6f}s\\n\")\n",
    "        execution_times.append(execution_time)\n",
    "    return execution_times"
   ]
  },
  {
   "cell_type": "code",
   "execution_count": 11,
   "metadata": {},
   "outputs": [
    {
     "name": "stdout",
     "output_type": "stream",
     "text": [
      "Input size : 1\n",
      "2 Iterations and 1 combinations\n",
      "Time Took : 0.000000s\n",
      "\n",
      "Input size : 2\n",
      "5 Iterations and 2 combinations\n",
      "Time Took : 0.000000s\n",
      "\n",
      "Input size : 3\n",
      "16 Iterations and 6 combinations\n",
      "Time Took : 0.000000s\n",
      "\n",
      "Input size : 4\n",
      "65 Iterations and 24 combinations\n",
      "Time Took : 0.000000s\n",
      "\n",
      "Input size : 5\n",
      "326 Iterations and 120 combinations\n",
      "Time Took : 0.002000s\n",
      "\n",
      "Input size : 6\n",
      "1957 Iterations and 720 combinations\n",
      "Time Took : 0.001494s\n",
      "\n",
      "Input size : 7\n",
      "13700 Iterations and 5040 combinations\n",
      "Time Took : 0.011283s\n",
      "\n",
      "Input size : 8\n",
      "109601 Iterations and 40320 combinations\n",
      "Time Took : 0.094650s\n",
      "\n",
      "Input size : 9\n",
      "986410 Iterations and 362880 combinations\n",
      "Time Took : 0.874492s\n",
      "\n",
      "Input size : 10\n",
      "9864101 Iterations and 3628800 combinations\n",
      "Time Took : 9.152874s\n",
      "\n",
      "Input size : 11\n",
      "108505112 Iterations and 39916800 combinations\n",
      "Time Took : 104.115720s\n",
      "\n",
      "Input size : 12\n",
      "1302061345 Iterations and 479001600 combinations\n",
      "Time Took : 1283.081852s\n",
      "\n",
      "[0.0, 0.0, 0.0, 0.0, 0.0020003318786621094, 0.001493692398071289, 0.011283397674560547, 0.0946495532989502, 0.8744916915893555, 9.152873992919922, 104.11571955680847, 1283.0818519592285]\n"
     ]
    }
   ],
   "source": [
    "input_size = [size for size in range(1, 13)]\n",
    "execution_times = test_bnb(input_size, False)\n",
    "print(execution_times)"
   ]
  },
  {
   "cell_type": "code",
   "execution_count": 12,
   "metadata": {},
   "outputs": [
    {
     "data": {
      "image/png": "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",
      "text/plain": [
       "<Figure size 432x288 with 1 Axes>"
      ]
     },
     "metadata": {
      "needs_background": "light"
     },
     "output_type": "display_data"
    }
   ],
   "source": [
    "import numpy as np\n",
    "import matplotlib.pyplot as plt\n",
    "\n",
    "plt.plot(input_size, execution_times, marker='o')\n",
    "plt.title(\"Execution Time vs. Input Size\")\n",
    "plt.xlabel(\"Input Size(NxN)\")\n",
    "plt.ylabel(\"Execution Time (s)\")\n",
    "plt.grid(True)\n",
    "plt.show()"
   ]
  }
 ],
 "metadata": {
  "kernelspec": {
   "display_name": "Python 3",
   "language": "python",
   "name": "python3"
  },
  "language_info": {
   "codemirror_mode": {
    "name": "ipython",
    "version": 3
   },
   "file_extension": ".py",
   "mimetype": "text/x-python",
   "name": "python",
   "nbconvert_exporter": "python",
   "pygments_lexer": "ipython3",
   "version": "3.12.0"
  },
  "orig_nbformat": 4
 },
 "nbformat": 4,
 "nbformat_minor": 2
}
