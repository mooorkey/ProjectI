{
 "cells": [
  {
   "cell_type": "code",
   "execution_count": 11,
   "metadata": {},
   "outputs": [],
   "source": [
    "import numpy as np\n",
    "import matplotlib.pyplot as plt\n",
    "import time\n",
    "from random_matrix import generate_matrix, print_matrix"
   ]
  },
  {
   "cell_type": "code",
   "execution_count": 12,
   "metadata": {},
   "outputs": [],
   "source": [
    "# Prototype 4\n",
    "# Added combinations and iterations \n",
    "# Once all worker are assigned and unassigned list is empty then this means we get a combination\n",
    "# Cut the unfinished one with more cost\n",
    "def find_least_cost(cost_matrix):\n",
    "    worker_length = len(cost_matrix)\n",
    "    lower_bound = float('inf') # Initialize with positive infinity\n",
    "    assignment_result = []\n",
    "\n",
    "    iteration = 0\n",
    "    combination = 0\n",
    "\n",
    "    # Initialize unpruned_nodes for nodes explore\n",
    "    unpruned_nodes = [(0, [], list(range(worker_length)))] \n",
    "    \n",
    "    while unpruned_nodes:\n",
    "        # cost, list of assigned worker, list of unassigned worker\n",
    "        cost, assignment, unassigned = unpruned_nodes.pop() # pop a node to explore\n",
    "        iteration += 1\n",
    "\n",
    "        if not unassigned: # Check if all worker are assigned\n",
    "            combination += 1 # All workers are assigned means we finished 1 combination\n",
    "            if cost < lower_bound:\n",
    "                lower_bound = cost # set new cost\n",
    "                assignment_result = assignment # set new assignment\n",
    "            continue\n",
    "\n",
    "        # create child node for each unassigned worker\n",
    "        for job in unassigned:\n",
    "            new_assignment = assignment + [job] # add job to assignment\n",
    "            new_unassigned = [j for j in unassigned if j != job] # <- this is constraint (1 worker can assigned to 1 job)\n",
    "            new_cost = calculate_cost(cost_matrix, new_assignment)\n",
    "\n",
    "            if new_cost < lower_bound:\n",
    "                unpruned_nodes.append((new_cost, new_assignment, new_unassigned))  \n",
    "\n",
    "    print(f\"{iteration} Iterations though {combination} combinations\")\n",
    "\n",
    "    return lower_bound, assignment_result\n",
    "\n",
    "def calculate_cost(matrix, assignment):\n",
    "    cost = 0\n",
    "    for worker, job in enumerate(assignment):\n",
    "        cost += matrix[worker][job]\n",
    "    return cost\n",
    "\n",
    "# the result should be \n",
    "# worker 0, 1, 2, 3\n",
    "#       [1, 0, 2, 3] jobs\n",
    "# optimal cost = 13"
   ]
  },
  {
   "cell_type": "code",
   "execution_count": 13,
   "metadata": {},
   "outputs": [],
   "source": [
    "# Capacity Constraint for job\n",
    "def is_capacity_satisfied(assignment, job, capacity_matrix):\n",
    "    # How many worker have been assigned to this job\n",
    "    job_count = assignment.count(job)\n",
    "    # print(f\"job count {job_count} cap {capacity_matrix[job]} {job_count <= capacity_matrix[job]}\")\n",
    "    return job_count <= capacity_matrix[job]"
   ]
  },
  {
   "cell_type": "code",
   "execution_count": 14,
   "metadata": {},
   "outputs": [
    {
     "name": "stdout",
     "output_type": "stream",
     "text": [
      "All test cases passed!\n"
     ]
    }
   ],
   "source": [
    "def test_cap():\n",
    "    # Worker 0 assigned to Job 1, Worker 1 assigned to Job 0\n",
    "    assignment = [1, 0, 2, 3]\n",
    "\n",
    "    # Job 0 has capacity of 0, Job 4 has capacity of 4 and so on\n",
    "    capacity_matrix = [0, 4, 4, 4]\n",
    "    \n",
    "    assert is_capacity_satisfied(assignment, 0, capacity_matrix) == False\n",
    "\n",
    "    # Chage Capacity of Job 0 to 1\n",
    "    capacity_matrix[0] = 2\n",
    "    assert is_capacity_satisfied(assignment, 0, capacity_matrix) == True\n",
    "\n",
    "    print(\"All test cases passed!\")\n",
    "\n",
    "test_cap()"
   ]
  },
  {
   "cell_type": "code",
   "execution_count": 15,
   "metadata": {},
   "outputs": [],
   "source": [
    "# Requirement Matching Constraint\n",
    "# เป็นระดับหรือขั้น\n",
    "def is_requirement_matched(assignment, worker_level_matrix, job_requirement_matrix):\n",
    "    for worker, job in enumerate(assignment):\n",
    "        if worker_level_matrix[worker] < job_requirement_matrix[job]:\n",
    "            return False\n",
    "    return True"
   ]
  },
  {
   "cell_type": "code",
   "execution_count": 16,
   "metadata": {},
   "outputs": [
    {
     "name": "stdout",
     "output_type": "stream",
     "text": [
      "All test cases passed!\n"
     ]
    }
   ],
   "source": [
    "def test_req():\n",
    "    # Sample assignment: Worker 0 is assigned to Job 1, Worker 1 is assigned to Job 3\n",
    "    assignment = [1, 3]\n",
    "    \n",
    "    # Sample worker skill levels: Worker 0 has skill level 3, Worker 1 has skill level 1\n",
    "    worker_level_matrix = [3, 1]\n",
    "    \n",
    "    # Sample job requirements: Job 0 requires skill level 2, Job 1 requires skill level 1 and so on\n",
    "    job_requirement_matrix = [2, 1, 3, 0]\n",
    "    \n",
    "    # Test case 1: Skill level matches\n",
    "    assert is_requirement_matched(assignment, worker_level_matrix, job_requirement_matrix) == True\n",
    "    \n",
    "    # Test case 2: Skill level does not match\n",
    "    job_requirement_matrix[1] = 4  # Job 0 now requires skill level 4\n",
    "    assert is_requirement_matched(assignment, worker_level_matrix, job_requirement_matrix) == False\n",
    "\n",
    "    print(\"All test cases passed!\")\n",
    "\n",
    "# Run the test function\n",
    "test_req()"
   ]
  },
  {
   "cell_type": "code",
<<<<<<< Updated upstream
   "execution_count": 11,
=======
   "execution_count": 17,
>>>>>>> Stashed changes
   "metadata": {},
   "outputs": [
    {
     "name": "stdout",
     "output_type": "stream",
     "text": [
<<<<<<< Updated upstream
      "55 Iterations though 5 combinations\n",
      "Optimal Solution: 9\n",
      "Optimal Assignment: [4, 0, 3, 2, 1]\n",
      "Time Took : 0.0009984970092773438 s\n"
=======
      "34 Iterations though 6 combinations\n",
      "Optimal Solution: 13\n",
      "Optimal Assignment: [1, 0, 2, 3]\n",
      "Time Took : 0.0010318756103515625 s\n"
>>>>>>> Stashed changes
     ]
    }
   ],
   "source": [
    "# dummy input\n",
    "# output should be\n",
    "# worker 0 -> job 1\n",
    "# worker 1 -> job 0\n",
    "# worker 2 -> job 2\n",
    "# worker 3 -> job 3\n",
    "# optimal cost = 13\n",
    "# input_data = np.array([\n",
    "# #job 0, 1, 2, 3 \n",
    "#     [9, 2, 7, 8], # Worker 0\n",
    "#     [6, 4, 3, 7], # Worker 1\n",
    "#     [5, 8, 1, 8], # Worker 2\n",
    "#     [7, 6, 9, 4]  # Worker 3\n",
    "# ])\n",
    "input_data = np.array([\n",
    "    [8, 4, 2, 6, 1],\n",
    "    [0, 9, 5, 5, 4],\n",
    "    [3, 8, 9, 2, 6],\n",
    "    [4, 3, 1, 0, 3],\n",
    "    [9, 5, 8, 9, 5],\n",
    "])\n",
    "start = time.time()\n",
    "solution, assignment = find_least_cost(input_data)\n",
    "end = time.time()\n",
    "print(\"Optimal Solution:\", solution)\n",
    "print(\"Optimal Assignment:\", assignment)\n",
    "print(\"Time Took :\", end-start, \"s\")"
   ]
  },
  {
   "cell_type": "code",
   "execution_count": 18,
   "metadata": {},
   "outputs": [],
   "source": [
    "def test_bnb(size_input, dbg):\n",
    "    execution_times = []\n",
    "    for size in size_input:\n",
    "        print(f\"Input size : {size}\")\n",
    "        data = generate_matrix(size)\n",
    "        start = time.time()\n",
    "        solution, assignment = find_least_cost(data)\n",
    "        end = time.time()\n",
    "        execution_time = end - start\n",
    "        \n",
    "        if dbg:\n",
    "            print_matrix(data)\n",
    "            print(\"Optimal Solution:\", solution)\n",
    "            print(\"Optimal Assignment:\", assignment)    \n",
    "        print(\"Time Took :\", f\"{execution_time:.6f}s\\n\")\n",
    "        execution_times.append(execution_time)\n",
    "    return execution_times"
   ]
  },
  {
   "cell_type": "code",
   "execution_count": 19,
   "metadata": {},
   "outputs": [
    {
     "name": "stdout",
     "output_type": "stream",
     "text": [
      "Input size : 1\n",
      "2 Iterations though 1 combinations\n",
      "Time Took : 0.000000s\n",
      "\n",
      "Input size : 2\n",
      "5 Iterations though 2 combinations\n",
      "Time Took : 0.000000s\n",
      "\n",
      "Input size : 3\n",
      "11 Iterations though 3 combinations\n",
      "Time Took : 0.000000s\n",
      "\n",
      "Input size : 4\n",
      "26 Iterations though 2 combinations\n",
      "Time Took : 0.000000s\n",
      "\n",
      "Input size : 5\n",
      "55 Iterations though 7 combinations\n",
      "Time Took : 0.000000s\n",
      "\n",
      "Input size : 6\n",
      "216 Iterations though 5 combinations\n",
      "Time Took : 0.001508s\n",
      "\n",
      "Input size : 7\n",
      "523 Iterations though 11 combinations\n",
      "Time Took : 0.001014s\n",
      "\n",
      "Input size : 8\n",
      "1061 Iterations though 11 combinations\n",
      "Time Took : 0.002990s\n",
      "\n",
      "Input size : 9\n",
      "10258 Iterations though 9 combinations\n",
      "Time Took : 0.028495s\n",
      "\n",
      "Input size : 10\n",
      "7762 Iterations though 26 combinations\n",
      "Time Took : 0.028050s\n",
      "\n",
      "Input size : 11\n",
      "46095 Iterations though 23 combinations\n",
      "Time Took : 0.174962s\n",
      "\n",
      "Input size : 12\n",
      "174976 Iterations though 29 combinations\n",
      "Time Took : 0.775814s\n",
      "\n",
      "Input size : 13\n",
      "69484 Iterations though 40 combinations\n",
      "Time Took : 0.378836s\n",
      "\n",
      "Input size : 14\n",
      "174111 Iterations though 54 combinations\n",
      "Time Took : 1.018635s\n",
      "\n",
      "Input size : 15\n",
      "490695 Iterations though 63 combinations\n",
      "Time Took : 3.272148s\n",
      "\n",
      "Input size : 16\n",
      "2292864 Iterations though 91 combinations\n",
      "Time Took : 15.880766s\n",
      "\n",
      "Input size : 17\n",
      "17103195 Iterations though 65 combinations\n",
      "Time Took : 123.953234s\n",
      "\n",
      "Input size : 18\n",
      "8185131 Iterations though 101 combinations\n",
      "Time Took : 70.855746s\n",
      "\n",
      "[0.0, 0.0, 0.0, 0.0, 0.0, 0.0015082359313964844, 0.0010139942169189453, 0.0029897689819335938, 0.028494596481323242, 0.02805018424987793, 0.17496180534362793, 0.7758135795593262, 0.37883567810058594, 1.0186350345611572, 3.2721478939056396, 15.88076639175415, 123.95323371887207, 70.85574579238892]\n"
     ]
    }
   ],
   "source": [
    "input_size = [size for size in range(1, 19)]\n",
    "execution_times = test_bnb(input_size, False)\n",
    "print(execution_times)"
   ]
  },
  {
   "cell_type": "code",
   "execution_count": 20,
   "metadata": {},
   "outputs": [
    {
     "data": {
      "image/png": "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",
      "text/plain": [
       "<Figure size 432x288 with 1 Axes>"
      ]
     },
     "metadata": {
      "needs_background": "light"
     },
     "output_type": "display_data"
    }
   ],
   "source": [
    "import numpy as np\n",
    "import matplotlib.pyplot as plt\n",
    "\n",
    "plt.plot(input_size, execution_times, marker='o')\n",
    "plt.title(\"Execution Time vs. Input Size\")\n",
    "plt.xlabel(\"Input Size(NxN)\")\n",
    "plt.ylabel(\"Execution Time (s)\")\n",
    "plt.grid(True)\n",
    "plt.show()"
   ]
  }
 ],
 "metadata": {
  "kernelspec": {
   "display_name": "Python 3",
   "language": "python",
   "name": "python3"
  },
  "language_info": {
   "codemirror_mode": {
    "name": "ipython",
    "version": 3
   },
   "file_extension": ".py",
   "mimetype": "text/x-python",
   "name": "python",
   "nbconvert_exporter": "python",
   "pygments_lexer": "ipython3",
   "version": "3.12.0"
  },
  "orig_nbformat": 4
 },
 "nbformat": 4,
 "nbformat_minor": 2
}
