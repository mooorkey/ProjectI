{
 "cells": [
  {
   "cell_type": "code",
   "execution_count": 10,
   "metadata": {},
   "outputs": [
    {
     "name": "stdout",
     "output_type": "stream",
     "text": [
      "worker 0 preferred job0\n",
      "reduce job 0 slot =>1\n",
      "\n",
      "worker 1 preferred job3\n",
      "reduce job 3 slot =>1\n",
      "\n",
      "worker 2 preferred job0\n",
      "reduce job 0 slot =>0\n",
      "\n",
      "worker 3 preferred job2\n",
      "reduce job 2 slot =>1\n",
      "\n",
      "assignment [0, 3, 0, 2]\n",
      "job list [0, 2, 1, 1]\n"
     ]
    }
   ],
   "source": [
    "empty_positions = [2, 2, 2, 2]\n",
    "\n",
    "cost_matrix = [\n",
    "    [9, 2, 7, 8],  # Worker 0\n",
    "    [6, 4, 3, 7],  # Worker 1\n",
    "    [5, 8, 1, 8],  # Worker 2\n",
    "    [7, 6, 9, 4]   # Worker 3\n",
    "]\n",
    "\n",
    "assignment = []\n",
    "for worker_index, worker_scores in enumerate(cost_matrix):\n",
    "    # print(f\"worker index{worker_index}, {worker_scores}\")\n",
    "    worker_priority = worker_index\n",
    "    preferred_job = None\n",
    "\n",
    "    for job_index, score in enumerate(worker_scores):\n",
    "        # print(f\"job index {job_index}, {score}\")\n",
    "        if empty_positions[job_index] > 0:\n",
    "            if preferred_job is None or score > worker_scores[preferred_job]:\n",
    "                preferred_job = job_index\n",
    "\n",
    "    if preferred_job is not None:\n",
    "        assignment.append(preferred_job)\n",
    "        empty_positions[preferred_job] -= 1\n",
    "        print(f\"worker {worker_index} preferred job{preferred_job}\")\n",
    "        print(f\"reduce job {preferred_job} slot =>{empty_positions[preferred_job]}\\n\")\n",
    "    else:\n",
    "        assignment.append(-1)\n",
    "\n",
    "print(f\"assignment {assignment}\")\n",
    "print(f\"job slots {empty_positions}\")"
   ]
  },
  {
   "cell_type": "code",
   "execution_count": 15,
   "metadata": {},
   "outputs": [
    {
     "name": "stdout",
     "output_type": "stream",
     "text": [
      "[[9, 2, 7, 8], [6, 4, 3, 7], [5, 8, 1, 8]]\n",
      "[[7, 6, 9, 4]]\n",
      "[[7, 6, 9, 4], [5, 8, 1, 8], [6, 4, 3, 7], [9, 2, 7, 8]]\n"
     ]
    }
   ],
   "source": [
    "testlist = [\n",
    "    [9, 2, 7, 8],  # Worker 0\n",
    "    [6, 4, 3, 7],  # Worker 1\n",
    "    [5, 8, 1, 8],  # Worker 2\n",
    "    [7, 6, 9, 4]   # Worker 3\n",
    "]\n",
    "n = 3\n",
    "sliced1 = testlist[:n]\n",
    "sliced2 = testlist[n:]\n",
    "sliced3 = testlist[::-1]\n",
    "print(sliced1)\n",
    "print(sliced2)\n",
    "print(sliced3)"
   ]
  },
  {
   "cell_type": "code",
   "execution_count": 32,
   "metadata": {},
   "outputs": [
    {
     "name": "stdout",
     "output_type": "stream",
     "text": [
      "8\n",
      "Worker C preferred job 1\n",
      "reduce job 1 slot reduced from 2 => 1\n",
      "\n",
      "Worker D preferred job 2\n",
      "reduce job 2 slot reduced from 2 => 1\n",
      "\n",
      "Worker A preferred job 0\n",
      "reduce job 0 slot reduced from 2 => 1\n",
      "\n",
      "Worker B preferred job 3\n",
      "reduce job 3 slot reduced from 2 => 1\n",
      "\n",
      "assignment [['Worker C', 1], ['Worker D', 2], ['Worker A', 0], ['Worker B', 3]]\n",
      "job slots [1, 1, 1, 1]\n"
     ]
    }
   ],
   "source": [
    "# comes with job capacity constraint\n",
    "empty_positions = [2, 2, 2, 2]\n",
    "# use zip if input comes in seperate matrix e.g. location matrix, score matrix \n",
    "# priority can be a thing that tell whether a worker is promoted or relocated\n",
    "nested_matrix = [\n",
    "    [[9, 2, 7, 8], \"BKK\", 1, \"Worker A\"],  # Worker 0 (with priority 0, location \"BKK\", and name \"Worker A\")\n",
    "    [[6, 4, 3, 7], \"NYC\", 0, \"Worker B\"],  # Worker 1 (with priority 1, location \"NYC\", and name \"Worker B\")\n",
    "    [[5, 8, 1, 8], \"LON\", 3, \"Worker C\"],  # Worker 2 (with priority 2, location \"LON\", and name \"Worker C\")\n",
    "    [[7, 6, 9, 4], \"PAR\", 2, \"Worker D\"]   # Worker 3 (with priority 3, location \"PAR\", and name \"Worker D\")\n",
    "]\n",
    "\n",
    "sorted_mat = sorted(nested_matrix, key=lambda x: x[2], reverse=True)\n",
    "\n",
    "assignment = []\n",
    "for worker_index, worker_data in enumerate(sorted_mat):\n",
    "    # print(f\"worker index{worker_index}, {worker_scores}\")\n",
    "    worker_scores, worker_location, worker_priority, name = worker_data # extract worker attributes\n",
    "    \n",
    "    preferred_job = None\n",
    "\n",
    "    for job_index, score in enumerate(worker_scores):\n",
    "        # print(f\"job index {job_index}, {score}\")\n",
    "        if empty_positions[job_index] > 0:\n",
    "            if preferred_job is None or score > worker_scores[preferred_job]:\n",
    "                preferred_job = job_index\n",
    "\n",
    "    if preferred_job is not None:\n",
    "        assignment.append([name, preferred_job])\n",
    "        print(f\"{name} preferred job {preferred_job}\")\n",
    "        print(f\"reduce job {preferred_job} slot reduced from {empty_positions[preferred_job]} => {empty_positions[preferred_job]-1}\\n\")\n",
    "        empty_positions[preferred_job] -= 1\n",
    "    else:\n",
    "        assignment.append(-1)\n",
    "\n",
    "print(f\"assignment {assignment}\")\n",
    "print(f\"job slots {empty_positions}\")"
   ]
  },
  {
   "cell_type": "code",
   "execution_count": 25,
   "metadata": {},
   "outputs": [
    {
     "name": "stdout",
     "output_type": "stream",
     "text": [
      "score [10, 2, 7, 8] loc BKK prio 1\n",
      "score [10, 4, 3, 7] loc NYC prio 0\n",
      "score [10, 8, 1, 8] loc LON prio 3\n",
      "score [10, 6, 9, 4] loc PAR prio 2\n"
     ]
    }
   ],
   "source": [
    "for worker_data in nested_matrix:\n",
    "    worker_scores, worker_location, worker_priority, name = worker_data\n",
    "    print(f\"score {worker_scores} loc {worker_location} prio {worker_priority}\")"
   ]
  },
  {
   "cell_type": "code",
   "execution_count": 33,
   "metadata": {},
   "outputs": [],
   "source": [
    "Scores = [\n",
    "    # job id, Location(Prefix), Position/Job(can be blank), Appraisal score, rank of job\n",
    "    [10, \"อสส.\", \"ผตอ. คนที่ 2\", 19, 6],\n",
    "    [12, \"OOAG\", \"Student.5\", 18, 5],\n",
    "    [25, \"OOAG\", \"Student.4\", 17, 6],\n",
    "    [9, \"OOAG\", \"Student.2\", 16, 7],\n",
    "    # [\"Old Job/Position\", (N job score)-1, worker old rank] # <= manually add\n",
    "]\n",
    "worker_data = [\n",
    "    # PriorityNo., Prefix, Firstname, Lastname, Rank(1-8), Location, Position Name, Current job id, Appraisal Score()\n",
    "    [322, \"Mr.\", \"Mork1\", \"Suk\", 5, \"OOAG2\", \"Student.1\", 1,  Scores],\n",
    "    [321, \"Mrs.\", \"Mork2\", \"Suk\", 4, \"OOAG2\", \"Student.1\", 2,  Scores],\n",
    "    [320, \"Mr.\", \"Mork3\", \"Suk\", 3, \"OOAG2\", \"Student.1\", 3,  Scores],\n",
    "    [319, \"Mr.\", \"Mork4\", \"Suk\", 2, \"OOAG2\", \"Student.1\", 4,  Scores],\n",
    "    # even if a worker is at the same rank we still have Priority No. which is unique\n",
    "]\n"
   ]
  },
  {
   "cell_type": "code",
   "execution_count": 9,
   "metadata": {},
   "outputs": [],
   "source": [
    "job_capacity_matrix = [\n",
    "    # job id, Location(Prefix), Position/Job(can be blank), capacity from rank 8 to 0\n",
    "    [10, \"อสส.\", \"ผตอ. คนที่ 2\", [0, 1, 2, 2, 0, 0, 0, 0, 0]], # maybe add job id ?\n",
    "    [11, \"อสส.\", \"ผตอ. คนที่ 3\", [0, 2, 2, 2, 0, 0, 0, 3, 0]],\n",
    "    [12, \"อสส.\", \"ผตอ. คนที่ 4\", [0, 1, 2, 2, 4, 8, 0, 0, 0]],\n",
    "    [13, \"อสส.\", \"ผตอ. คนที่ 5\", [0, 2, 0, 9, 8, 7]]\n",
    "    # and so on...\n",
    "\n",
    "    # ไม่ต้องมีขั้น 8, 7 และ 0 คือ อาวุโส\n",
    "]"
   ]
  },
  {
   "cell_type": "code",
   "execution_count": 7,
   "metadata": {},
   "outputs": [],
   "source": [
    "assignment_result = [\n",
    "    # How do we know new Priority No.?\n",
    "    # Old Priority No., Name, Old job/position, old job id, New\n",
    "    [[322, \"Mr.\", \"Mork1\", \"Suk\", \"OOAG2\", \"Student.1\", 1, \"อสส.\", \"ผตอ. คนที่ 2\"], 19],\n",
    "    [[323, \"Mr.\", \"Mork2\", \"Suk\", \"OOAG2\", \"Student.1\", 1, \"อสส.\", \"ผตอ. คนที่ 2\"], 19],\n",
    "    [[324, \"Mr.\", \"Mork3\", \"Suk\", \"OOAG2\", \"Student.1\", 1, \"อสส.\", \"ผตอ. คนที่ 2\"], 19]\n",
    "]\n",
    "\n",
    "# ข้อมูอัตรากำลัง คือ ปัจจุบันมีอยู่กี่คน\n",
    "# จะมี matrix สำหรับบอกว่า job/position ขั้นไหน retire กี่คน\n",
    "# matrix สำหรับขอย้ายโดยเฉพาะ\n",
    "\n",
    "# ต้องทำเลื่อนชั้นก่อน\n",
    "# แบ่งคนแต่ละชั้นออกเป็น 2 ประเภท แล้วก็ทำตามลำดับชั้น "
   ]
  }
 ],
 "metadata": {
  "kernelspec": {
   "display_name": "Python 3",
   "language": "python",
   "name": "python3"
  },
  "language_info": {
   "codemirror_mode": {
    "name": "ipython",
    "version": 3
   },
   "file_extension": ".py",
   "mimetype": "text/x-python",
   "name": "python",
   "nbconvert_exporter": "python",
   "pygments_lexer": "ipython3",
   "version": "3.11.5"
  },
  "orig_nbformat": 4
 },
 "nbformat": 4,
 "nbformat_minor": 2
}
